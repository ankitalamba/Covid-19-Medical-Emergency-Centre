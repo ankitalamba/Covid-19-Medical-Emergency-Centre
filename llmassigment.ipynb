{
  "nbformat": 4,
  "nbformat_minor": 0,
  "metadata": {
    "colab": {
      "provenance": [],
      "authorship_tag": "ABX9TyNhpPCr57PP9Iwi9YSY+sz7",
      "include_colab_link": true
    },
    "kernelspec": {
      "name": "python3",
      "display_name": "Python 3"
    },
    "language_info": {
      "name": "python"
    }
  },
  "cells": [
    {
      "cell_type": "markdown",
      "metadata": {
        "id": "view-in-github",
        "colab_type": "text"
      },
      "source": [
        "<a href=\"https://colab.research.google.com/github/ankitalamba/Covid-19-Medical-Emergency-Centre/blob/main/llmassigment.ipynb\" target=\"_parent\"><img src=\"https://colab.research.google.com/assets/colab-badge.svg\" alt=\"Open In Colab\"/></a>"
      ]
    },
    {
      "cell_type": "markdown",
      "source": [
        "Importing all the necessary libraries-"
      ],
      "metadata": {
        "id": "hIiHMW0oXZli"
      }
    },
    {
      "cell_type": "code",
      "source": [
        "!pip install groq"
      ],
      "metadata": {
        "colab": {
          "base_uri": "https://localhost:8080/"
        },
        "id": "Th8oDw0uXswB",
        "outputId": "e2ffd779-09a2-41b7-8f42-1049e30d549a"
      },
      "execution_count": 2,
      "outputs": [
        {
          "output_type": "stream",
          "name": "stdout",
          "text": [
            "Collecting groq\n",
            "  Downloading groq-0.13.0-py3-none-any.whl.metadata (13 kB)\n",
            "Requirement already satisfied: anyio<5,>=3.5.0 in /usr/local/lib/python3.10/dist-packages (from groq) (3.7.1)\n",
            "Requirement already satisfied: distro<2,>=1.7.0 in /usr/local/lib/python3.10/dist-packages (from groq) (1.9.0)\n",
            "Requirement already satisfied: httpx<1,>=0.23.0 in /usr/local/lib/python3.10/dist-packages (from groq) (0.28.0)\n",
            "Requirement already satisfied: pydantic<3,>=1.9.0 in /usr/local/lib/python3.10/dist-packages (from groq) (2.10.3)\n",
            "Requirement already satisfied: sniffio in /usr/local/lib/python3.10/dist-packages (from groq) (1.3.1)\n",
            "Requirement already satisfied: typing-extensions<5,>=4.7 in /usr/local/lib/python3.10/dist-packages (from groq) (4.12.2)\n",
            "Requirement already satisfied: idna>=2.8 in /usr/local/lib/python3.10/dist-packages (from anyio<5,>=3.5.0->groq) (3.10)\n",
            "Requirement already satisfied: exceptiongroup in /usr/local/lib/python3.10/dist-packages (from anyio<5,>=3.5.0->groq) (1.2.2)\n",
            "Requirement already satisfied: certifi in /usr/local/lib/python3.10/dist-packages (from httpx<1,>=0.23.0->groq) (2024.8.30)\n",
            "Requirement already satisfied: httpcore==1.* in /usr/local/lib/python3.10/dist-packages (from httpx<1,>=0.23.0->groq) (1.0.7)\n",
            "Requirement already satisfied: h11<0.15,>=0.13 in /usr/local/lib/python3.10/dist-packages (from httpcore==1.*->httpx<1,>=0.23.0->groq) (0.14.0)\n",
            "Requirement already satisfied: annotated-types>=0.6.0 in /usr/local/lib/python3.10/dist-packages (from pydantic<3,>=1.9.0->groq) (0.7.0)\n",
            "Requirement already satisfied: pydantic-core==2.27.1 in /usr/local/lib/python3.10/dist-packages (from pydantic<3,>=1.9.0->groq) (2.27.1)\n",
            "Downloading groq-0.13.0-py3-none-any.whl (108 kB)\n",
            "\u001b[?25l   \u001b[90m━━━━━━━━━━━━━━━━━━━━━━━━━━━━━━━━━━━━━━━━\u001b[0m \u001b[32m0.0/108.8 kB\u001b[0m \u001b[31m?\u001b[0m eta \u001b[36m-:--:--\u001b[0m\r\u001b[2K   \u001b[91m━━━━━━━━━━━━━━━━━━━━━━━━━━━━━━━━━━━━━\u001b[0m\u001b[91m╸\u001b[0m\u001b[90m━━\u001b[0m \u001b[32m102.4/108.8 kB\u001b[0m \u001b[31m4.1 MB/s\u001b[0m eta \u001b[36m0:00:01\u001b[0m\r\u001b[2K   \u001b[90m━━━━━━━━━━━━━━━━━━━━━━━━━━━━━━━━━━━━━━━━\u001b[0m \u001b[32m108.8/108.8 kB\u001b[0m \u001b[31m2.7 MB/s\u001b[0m eta \u001b[36m0:00:00\u001b[0m\n",
            "\u001b[?25hInstalling collected packages: groq\n",
            "Successfully installed groq-0.13.0\n"
          ]
        }
      ]
    },
    {
      "cell_type": "code",
      "execution_count": 3,
      "metadata": {
        "id": "04TxoNz-XZNE"
      },
      "outputs": [],
      "source": [
        "import os\n",
        "from groq import Groq\n",
        "from datetime import datetime, timedelta\n"
      ]
    },
    {
      "cell_type": "code",
      "source": [
        "os.environ[\"GROQ_API_KEY\"] = \"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\"\n",
        "\n",
        "\n",
        "print(os.environ.get(\"GROQ_API_KEY\"))"
      ],
      "metadata": {
        "colab": {
          "base_uri": "https://localhost:8080/"
        },
        "id": "l6vxUk8hY7J-",
        "outputId": "0fba957d-1f62-43d8-bfae-8657358b93a0"
      },
      "execution_count": 10,
      "outputs": [
        {
          "output_type": "stream",
          "name": "stdout",
          "text": [
            "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\n"
          ]
        }
      ]
    },
    {
      "cell_type": "markdown",
      "source": [
        "Extract Query Details Using the API"
      ],
      "metadata": {
        "id": "v7YkXuSAXz2C"
      }
    },
    {
      "cell_type": "code",
      "source": [
        "import os\n",
        "from groq import Groq\n",
        "from datetime import datetime, timedelta\n",
        "\n",
        "# Function to extract query details using Groq's Llama model via the API\n",
        "def extract_query_details(query):\n",
        "\n",
        "    client = Groq(api_key=os.environ.get(\"GROQ_API_KEY\"))\n",
        "\n",
        "\n",
        "    try:\n",
        "        chat_completion = client.chat.completions.create(\n",
        "            messages=[\n",
        "                {\n",
        "                    \"role\": \"user\",\n",
        "                    \"content\": query,  # The user's query passed to the model\n",
        "                }\n",
        "            ],\n",
        "            model=\"llama3-8b-8192\",  # Llama-3.1 model identifier\n",
        "        )\n",
        "\n",
        "        return chat_completion.choices[0].message.content\n",
        "\n",
        "    except Exception as e:\n",
        "        print(f\"Error making API call: {e}\")\n",
        "        return \"\"\n",
        "\n",
        "# Function to parse the LLM response dynamically\n",
        "def parse_response(response):\n",
        "    parsed_details = []\n",
        "\n",
        "\n",
        "    company_keywords = [\"Amazon\", \"Flipkart\", \"Myntra\", \"Walmart\", \"eBay\", \"Alibaba\"]\n",
        "    metric_keywords = [\"GMV\", \"revenue\", \"profit\", \"growth\", \"market share\", \"sales\"]\n",
        "\n",
        "\n",
        "    for company in company_keywords:\n",
        "        if company.lower() in response.lower():\n",
        "\n",
        "            for metric in metric_keywords:\n",
        "                if metric.lower() in response.lower():\n",
        "                    parsed_details.append({\n",
        "                        \"entity\": company,\n",
        "                        \"parameter\": metric,\n",
        "                        \"startDate\": None,\n",
        "                        \"endDate\": None,\n",
        "                    })\n",
        "\n",
        "    return parsed_details\n",
        "\n",
        "# Function to add default dates if not provided in the response\n",
        "def add_default_dates(parsed_details):\n",
        "    today = datetime.today()\n",
        "    one_year_ago = today - timedelta(days=365)\n",
        "\n",
        "    for detail in parsed_details:\n",
        "        # If startDate or endDate is None, set them to default dates\n",
        "        if detail[\"startDate\"] is None:\n",
        "            detail[\"startDate\"] = one_year_ago.strftime(\"%Y-%m-%d\")\n",
        "        if detail[\"endDate\"] is None:\n",
        "            detail[\"endDate\"] = today.strftime(\"%Y-%m-%d\")\n",
        "\n",
        "    return parsed_details\n",
        "\n",
        "# Function to generate the final JSON output\n",
        "def generate_json(parsed_details):\n",
        "    return parsed_details\n",
        "\n",
        "# Main function to process the query\n",
        "def process_query(query):\n",
        "    # Step 1: Extract details from the query using the Groq API\n",
        "    raw_response = extract_query_details(query)\n",
        "\n",
        "    # Step 2: Parse the LLM response to get the company and metric details\n",
        "    extracted_details = parse_response(raw_response)\n",
        "\n",
        "    # Step 3: Add default dates if not already included\n",
        "    enriched_details = add_default_dates(extracted_details)\n",
        "\n",
        "    # Step 4: Generate JSON output\n",
        "    return generate_json(enriched_details)\n",
        "\n",
        "# Get user input for the query\n",
        "query = input(\"Please enter your query: \")\n",
        "\n",
        "# Process the query\n",
        "result = process_query(query)\n",
        "\n",
        "# Output the result\n",
        "print(result)\n"
      ],
      "metadata": {
        "colab": {
          "base_uri": "https://localhost:8080/"
        },
        "id": "rGvf-QXTX267",
        "outputId": "771532e7-06f3-4965-e631-a4aec14ac236"
      },
      "execution_count": 31,
      "outputs": [
        {
          "output_type": "stream",
          "name": "stdout",
          "text": [
            "Please enter your query: What is Flipkart's GMV for last year\n",
            "[{'entity': 'Flipkart', 'parameter': 'GMV', 'startDate': '2023-12-12', 'endDate': '2024-12-11'}]\n"
          ]
        }
      ]
    }
  ]
}